{
 "cells": [
  {
   "cell_type": "raw",
   "id": "18b717a4",
   "metadata": {},
   "source": [
    "1. In what modes should the PdfFileReader() and PdfFileWriter() File objects will be opened?"
   ]
  },
  {
   "cell_type": "raw",
   "id": "57ca062d",
   "metadata": {},
   "source": [
    "ans: These file will be opened in binary mode.,read binary(rb) for PdfFileReader() And write binery (wb)PdfFileWriter."
   ]
  },
  {
   "cell_type": "code",
   "execution_count": null,
   "id": "afabdb00",
   "metadata": {},
   "outputs": [],
   "source": []
  },
  {
   "cell_type": "raw",
   "id": "5a769d0e",
   "metadata": {},
   "source": [
    "2. From a PdfFileReader object, how do you get a Page object for page 5?"
   ]
  },
  {
   "cell_type": "raw",
   "id": "2f980dd4",
   "metadata": {},
   "source": [
    "ans: callling getPage(4) will return a page object for about this Book, since page 0 is the first page."
   ]
  },
  {
   "cell_type": "code",
   "execution_count": null,
   "id": "8c3ca1e4",
   "metadata": {},
   "outputs": [],
   "source": []
  },
  {
   "cell_type": "raw",
   "id": "77156c1d",
   "metadata": {},
   "source": [
    "3. What PdfFileReader variable stores the number of pages in the PDF document?"
   ]
  },
  {
   "cell_type": "raw",
   "id": "b99f057f",
   "metadata": {},
   "source": [
    "ans: The numpages variable stores an integer of the  number pf pages in the PDFFile Reader object."
   ]
  },
  {
   "cell_type": "code",
   "execution_count": null,
   "id": "972c6f12",
   "metadata": {},
   "outputs": [],
   "source": []
  },
  {
   "cell_type": "raw",
   "id": "157372b9",
   "metadata": {},
   "source": [
    "4. If a PdfFileReader object’s PDF is encrypted with the password swordfish, what must you do\n",
    "before you can obtain Page objects from it?"
   ]
  },
  {
   "cell_type": "raw",
   "id": "aec54bf5",
   "metadata": {},
   "source": [
    "ans: Before we obtain the page object, the pdf has to be decryted by calling decrypt('swordfish')"
   ]
  },
  {
   "cell_type": "code",
   "execution_count": null,
   "id": "af92d733",
   "metadata": {},
   "outputs": [],
   "source": []
  },
  {
   "cell_type": "raw",
   "id": "74b98653",
   "metadata": {},
   "source": [
    "5. What methods do you use to rotate a page?"
   ]
  },
  {
   "cell_type": "raw",
   "id": "a7dd7cf5",
   "metadata": {},
   "source": [
    "ans:# page object.rotateClock(180)\n",
    "# the RotateClockwise() and rotate Counterwise() methods."
   ]
  },
  {
   "cell_type": "code",
   "execution_count": null,
   "id": "7a5778c3",
   "metadata": {},
   "outputs": [],
   "source": []
  },
  {
   "cell_type": "raw",
   "id": "cd15feb2",
   "metadata": {},
   "source": [
    "6. What is the difference between a Run object and a Paragraph object?"
   ]
  },
  {
   "cell_type": "raw",
   "id": "351de654",
   "metadata": {},
   "source": [
    "ans: Paragraph Object: A document contains multiple paragraphs. A paragraph begins on a new line and contain multiple runs. The Document object for the paragraph in the document.(A new paragraph begin whenever the user presses ENTER or RETURN whilee typing in a Word document.)\n",
    "\n",
    "Run Object: Runs are contiguos group of charcter within a paragraph with the same style."
   ]
  },
  {
   "cell_type": "code",
   "execution_count": null,
   "id": "9272d46b",
   "metadata": {},
   "outputs": [],
   "source": []
  },
  {
   "cell_type": "raw",
   "id": "6c8e61d3",
   "metadata": {},
   "source": [
    "7. How do you obtain a list of Paragraph objects for a Document object that’s stored in a variable\n",
    "named doc?"
   ]
  },
  {
   "cell_type": "raw",
   "id": "f86514d9",
   "metadata": {},
   "source": [
    "# !pip install python-docx\n",
    "import docx\n",
    "doc=docx.Doucument('abs.docx')\n",
    "doc.paragraphs\n",
    "#By using doc.paragraphs."
   ]
  },
  {
   "cell_type": "code",
   "execution_count": null,
   "id": "8191f4eb",
   "metadata": {},
   "outputs": [],
   "source": []
  },
  {
   "cell_type": "raw",
   "id": "75bb4890",
   "metadata": {},
   "source": [
    "8. What type of object has bold, underline, italic, strike, and outline variables?"
   ]
  },
  {
   "cell_type": "raw",
   "id": "ab265712",
   "metadata": {},
   "source": [
    "ans: A runs object has bold, underline,italic,strike,and outline variables."
   ]
  },
  {
   "cell_type": "code",
   "execution_count": null,
   "id": "eda52d2e",
   "metadata": {},
   "outputs": [],
   "source": []
  },
  {
   "cell_type": "raw",
   "id": "07aac9d2",
   "metadata": {},
   "source": [
    "9. What is the difference between False, True, and None for the bold variable?"
   ]
  },
  {
   "cell_type": "raw",
   "id": "7f8d8407",
   "metadata": {},
   "source": [
    "ans:  =Runs can be further style using text attribute. Each attribute can be set to one of three values.\n",
    "True ( the attribute is always enabled, no matter what other style are applied to the run),\n",
    "False (the attribute is always disabled),\n",
    "None( defaults to whatever the run's style is set to)\n",
    "= True always makes the Runs object bolded and False makes it always not bolded, No matter what the style bold setting is. None will make the Run object just use the style's bold setting."
   ]
  },
  {
   "cell_type": "code",
   "execution_count": null,
   "id": "e1ad735d",
   "metadata": {},
   "outputs": [],
   "source": []
  },
  {
   "cell_type": "raw",
   "id": "72419003",
   "metadata": {},
   "source": [
    "10. How do you create a Document object for a new Word document?"
   ]
  },
  {
   "cell_type": "raw",
   "id": "6ba5b047",
   "metadata": {},
   "source": [
    "ans: By Calling the docx.Document()function."
   ]
  },
  {
   "cell_type": "code",
   "execution_count": null,
   "id": "e8ae77e6",
   "metadata": {},
   "outputs": [],
   "source": []
  },
  {
   "cell_type": "raw",
   "id": "ebdcdd5f",
   "metadata": {},
   "source": [
    "11. How do you add a paragraph with the text \"Hello, there!\" to a Document object stored in a\n",
    "variable named doc?"
   ]
  },
  {
   "cell_type": "raw",
   "id": "9df44732",
   "metadata": {},
   "source": [
    "ans: import docx\n",
    "docx = docx.Document()\n",
    "\n",
    "doc.add_paragraph('Hello there!)\n",
    "doc.save('hellothere.docx')"
   ]
  },
  {
   "cell_type": "code",
   "execution_count": null,
   "id": "b0955819",
   "metadata": {},
   "outputs": [],
   "source": []
  },
  {
   "cell_type": "raw",
   "id": "5399c0c8",
   "metadata": {},
   "source": [
    "12. What integers represent the levels of headings available in Word documents?"
   ]
  },
  {
   "cell_type": "raw",
   "id": "406a17b7",
   "metadata": {},
   "source": [
    "ans:  ~~ iteger From 0 to 4\n",
    "      ~~ The arguments to add_heading() are a string of the heading text and an integer from 0 to 4. The integer 0 makes the heading the top of the document. integer 1 to 4  are for various heading levels with 1 beign the main heading and 4 the lowest subheaing."
   ]
  },
  {
   "cell_type": "code",
   "execution_count": null,
   "id": "9100a257",
   "metadata": {},
   "outputs": [],
   "source": []
  },
  {
   "cell_type": "code",
   "execution_count": null,
   "id": "a3c46cac",
   "metadata": {},
   "outputs": [],
   "source": []
  }
 ],
 "metadata": {
  "kernelspec": {
   "display_name": "Python 3",
   "language": "python",
   "name": "python3"
  },
  "language_info": {
   "codemirror_mode": {
    "name": "ipython",
    "version": 3
   },
   "file_extension": ".py",
   "mimetype": "text/x-python",
   "name": "python",
   "nbconvert_exporter": "python",
   "pygments_lexer": "ipython3",
   "version": "3.8.8"
  }
 },
 "nbformat": 4,
 "nbformat_minor": 5
}
